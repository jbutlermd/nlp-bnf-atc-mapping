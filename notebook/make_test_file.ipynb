{
 "cells": [
  {
   "cell_type": "markdown",
   "metadata": {},
   "source": [
    "## Trim BNF Information\n",
    "\n",
    "Trim BNF Information code file to a test file to measure different fuzzy match performance to determine the best algorithm to use.  It will pick top 150 prescribed drugs in UK from Jan 2017 to Dec 2018."
   ]
  },
  {
   "cell_type": "code",
   "execution_count": null,
   "metadata": {},
   "outputs": [],
   "source": [
    "import pandas as pd\n",
    "import numpy as np\n",
    "import os\n",
    "import time\n",
    "import re\n",
    "import operator\n",
    "import math\n",
    "import configparser\n",
    "\n",
    "config_file = '../config.ini'\n",
    "config = configparser.ConfigParser()\n",
    "config.read(config_file)"
   ]
  },
  {
   "cell_type": "code",
   "execution_count": null,
   "metadata": {},
   "outputs": [],
   "source": [
    "bnf_code_df = pd.read_csv(os.path.join(config['DEFAULT']['output_dir'],'bnf_code_clean.csv'), dtype='U')\n",
    "bnf_code_df.head()"
   ]
  },
  {
   "cell_type": "markdown",
   "metadata": {},
   "source": [
    "## Top prescribed Drugs"
   ]
  },
  {
   "cell_type": "code",
   "execution_count": null,
   "metadata": {},
   "outputs": [],
   "source": [
    "count_df = pd.read_csv(os.path.join(config['DEFAULT']['data_dir'], 'full_bnf_prescription_count.csv'))\n",
    "count_df.head(10)"
   ]
  },
  {
   "cell_type": "code",
   "execution_count": null,
   "metadata": {},
   "outputs": [],
   "source": [
    "merge_df = bnf_code_df.merge(count_df, how='left', left_on='bnf_code', right_on='bnf_code_full')\n",
    "merge_df.dropna(subset=['total_prescribed'], axis=0, inplace=True)\n",
    "merge_df.drop(columns=['misc1','bnf_code_full'], inplace=True)\n",
    "merge_df.sort_values(by='total_prescribed', ascending=False, inplace=True)\n",
    "merge_df.head()"
   ]
  },
  {
   "cell_type": "code",
   "execution_count": null,
   "metadata": {},
   "outputs": [],
   "source": [
    "slim_df = merge_df.drop_duplicates(subset=['bnf_chemical_substance'],keep='first')\n",
    "final_df = slim_df.head(150)"
   ]
  },
  {
   "cell_type": "markdown",
   "metadata": {},
   "source": [
    "## Randomly Selected"
   ]
  },
  {
   "cell_type": "code",
   "execution_count": null,
   "metadata": {},
   "outputs": [],
   "source": [
    "random_sample_df = bnf_code_df.sample(n=500, random_state=7)\n",
    "slim_df = random_sample_df.drop_duplicates(subset=['bnf_chemical_substance'],keep='first')\n",
    "final_df = slim_df"
   ]
  },
  {
   "cell_type": "code",
   "execution_count": null,
   "metadata": {},
   "outputs": [],
   "source": [
    "final_df.info()"
   ]
  },
  {
   "cell_type": "markdown",
   "metadata": {},
   "source": [
    "## Save dataframe to CSV"
   ]
  },
  {
   "cell_type": "code",
   "execution_count": null,
   "metadata": {},
   "outputs": [],
   "source": [
    "final_df.to_csv(os.path.join(config['DEFAULT']['output_dir'],'bnf_code_test_file_random.csv'), index=False)"
   ]
  }
 ],
 "metadata": {
  "kernelspec": {
   "display_name": "Python 3",
   "language": "python",
   "name": "python3"
  },
  "language_info": {
   "codemirror_mode": {
    "name": "ipython",
    "version": 3
   },
   "file_extension": ".py",
   "mimetype": "text/x-python",
   "name": "python",
   "nbconvert_exporter": "python",
   "pygments_lexer": "ipython3",
   "version": "3.7.6"
  }
 },
 "nbformat": 4,
 "nbformat_minor": 4
}
