{
 "cells": [
  {
   "cell_type": "markdown",
   "metadata": {},
   "source": [
    "# Sandbox 2"
   ]
  },
  {
   "cell_type": "code",
   "execution_count": null,
   "metadata": {},
   "outputs": [],
   "source": [
    "import pandas as pd\n",
    "import configparser\n",
    "import os\n",
    "import jellyfish as jf\n",
    "import py_stringmatching as sm\n",
    "import numpy\n",
    "from re import search\n",
    "\n",
    "config_file = '../config.ini'\n",
    "config = configparser.ConfigParser()\n",
    "config.read(config_file)"
   ]
  },
  {
   "cell_type": "code",
   "execution_count": null,
   "metadata": {},
   "outputs": [],
   "source": [
    "def is_combination(x):\n",
    "    if search(\"combination\", x):\n",
    "        return 'Y'\n",
    "    elif search(\" and \", x):\n",
    "        return 'Y'\n",
    "    elif search(\"&\", x):\n",
    "        return 'Y'\n",
    "    elif search(\" with \", x):\n",
    "        return 'Y'\n",
    "    elif search(\"/\", x):\n",
    "        return 'Y'\n",
    "    else:\n",
    "        return 'N'"
   ]
  },
  {
   "cell_type": "code",
   "execution_count": null,
   "metadata": {},
   "outputs": [],
   "source": [
    "mapped_atc_df = pd.read_csv(os.path.join('../output/atc_used.csv'),header=None)\n",
    "mapped_atc_array = mapped_atc_df[0].to_numpy()\n",
    "atc_df = pd.read_csv(os.path.join('../data/rxnorm_atc_code_info.csv'))\n",
    "atc_df.columns = ['i', 'rxcui', 'rxaui', 'sab', 'tty', 'ATC code', 'ATC level name', 'suppress']\n",
    "atc_df.drop('i', axis=1, inplace=True)\n",
    "bnf_df = pd.read_csv(os.path.join('../output/bnf_code_clean.csv'))"
   ]
  },
  {
   "cell_type": "code",
   "execution_count": null,
   "metadata": {},
   "outputs": [],
   "source": [
    "bnf_df"
   ]
  },
  {
   "cell_type": "code",
   "execution_count": null,
   "metadata": {},
   "outputs": [],
   "source": [
    "atc_df['mapped_to_bnf'] = atc_df['ATC code'].apply(lambda x: ('N','Y')[x in mapped_atc_array])\n",
    "atc_df['combination'] = atc_df.loc[atc_df['tty'].isin(['IN','RXN_IN'])]['ATC level name'].apply(lambda x: is_combination(x.lower()))\n",
    "bnf_df['combination'] = bnf_df['bnf_chemical_substance'].apply(lambda x: is_combination(x.lower()))"
   ]
  },
  {
   "cell_type": "code",
   "execution_count": null,
   "metadata": {},
   "outputs": [],
   "source": [
    "atc_df.loc[atc_df['ATC code'] == 'V04CC02']"
   ]
  },
  {
   "cell_type": "code",
   "execution_count": null,
   "metadata": {},
   "outputs": [],
   "source": [
    "atc_df.loc[atc_df['mapped_to_bnf'] == 'Y']"
   ]
  },
  {
   "cell_type": "code",
   "execution_count": null,
   "metadata": {},
   "outputs": [],
   "source": [
    "atc_df.loc[atc_df['combination'] == 'Y']"
   ]
  },
  {
   "cell_type": "code",
   "execution_count": null,
   "metadata": {},
   "outputs": [],
   "source": [
    "atc_df.loc[atc_df['tty'].isin(['IN','RXN_IN'])].groupby('ATC level name').count()"
   ]
  },
  {
   "cell_type": "code",
   "execution_count": null,
   "metadata": {},
   "outputs": [],
   "source": [
    "count_df = atc_df.groupby('ATC level name').count()\n",
    "count_df.to_csv(os.path.join('../output/atc_count.csv'))\n",
    "count_df = bnf_df.groupby('bnf_chemical_substance').count()\n",
    "count_df.to_csv(os.path.join('../output/bnf_count.csv'))"
   ]
  },
  {
   "cell_type": "code",
   "execution_count": null,
   "metadata": {},
   "outputs": [],
   "source": [
    "atc_df.to_csv(os.path.join('../output/atc_mapped_to_bnf.csv'))"
   ]
  },
  {
   "cell_type": "code",
   "execution_count": null,
   "metadata": {},
   "outputs": [],
   "source": [
    "bnf_df.to_csv(os.path.join('../output/bnf_combination.csv'))"
   ]
  }
 ],
 "metadata": {
  "kernelspec": {
   "display_name": "Python 3",
   "language": "python",
   "name": "python3"
  },
  "language_info": {
   "codemirror_mode": {
    "name": "ipython",
    "version": 3
   },
   "file_extension": ".py",
   "mimetype": "text/x-python",
   "name": "python",
   "nbconvert_exporter": "python",
   "pygments_lexer": "ipython3",
   "version": "3.7.6"
  }
 },
 "nbformat": 4,
 "nbformat_minor": 4
}
